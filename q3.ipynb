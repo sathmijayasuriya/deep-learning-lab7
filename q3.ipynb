{
 "cells": [
  {
   "cell_type": "code",
   "execution_count": 1,
   "id": "f4340427",
   "metadata": {},
   "outputs": [],
   "source": [
    "import matplotlib.pyplot as plt\n",
    "import numpy as np\n",
    "import pandas as pd\n",
    "import tensorflow as tf\n",
    "\n",
    "from sklearn.metrics import accuracy_score, precision_score, recall_score\n",
    "from sklearn.model_selection import train_test_split\n",
    "from tensorflow.keras import layers, losses\n",
    "from tensorflow.keras.datasets import fashion_mnist\n",
    "from tensorflow.keras.models import Model"
   ]
  },
  {
   "cell_type": "code",
   "execution_count": 2,
   "id": "a661149f",
   "metadata": {},
   "outputs": [],
   "source": [
    "(x_train, _), (x_test, _) = fashion_mnist.load_data()\n"
   ]
  },
  {
   "cell_type": "code",
   "execution_count": 3,
   "id": "23fc6f78",
   "metadata": {},
   "outputs": [],
   "source": [
    "x_train = x_train.astype('float32') / 255.\n",
    "x_test = x_test.astype('float32') / 255.\n",
    "\n"
   ]
  },
  {
   "cell_type": "code",
   "execution_count": 4,
   "id": "1bdf4e3c",
   "metadata": {},
   "outputs": [
    {
     "name": "stdout",
     "output_type": "stream",
     "text": [
      "(60000, 28, 28, 1)\n",
      "(10000, 28, 28, 1)\n"
     ]
    }
   ],
   "source": [
    "x_train = x_train[..., tf.newaxis] #adds a additional axis (60000,28,28) --> (60000,28,28,1) \n",
    "x_test = x_test[..., tf.newaxis]\n",
    "print(x_train.shape)\n",
    "print(x_test.shape)"
   ]
  },
  {
   "cell_type": "code",
   "execution_count": 5,
   "id": "37a6b423",
   "metadata": {
    "collapsed": true
   },
   "outputs": [
    {
     "data": {
      "text/plain": [
       "<tf.Tensor: shape=(60000, 28, 28, 1), dtype=float32, numpy=\n",
       "array([[[[ 1.1253549 ],\n",
       "         [ 1.1953491 ],\n",
       "         [ 0.20994283],\n",
       "         ...,\n",
       "         [-0.20759903],\n",
       "         [ 0.47101167],\n",
       "         [ 1.0870306 ]],\n",
       "\n",
       "        [[ 1.6428366 ],\n",
       "         [-0.9695991 ],\n",
       "         [-0.13982153],\n",
       "         ...,\n",
       "         [-0.83209836],\n",
       "         [ 2.5513363 ],\n",
       "         [ 1.2195321 ]],\n",
       "\n",
       "        [[-2.627697  ],\n",
       "         [-0.24613291],\n",
       "         [-0.5430019 ],\n",
       "         ...,\n",
       "         [-0.36418256],\n",
       "         [-1.6194142 ],\n",
       "         [-0.12697986]],\n",
       "\n",
       "        ...,\n",
       "\n",
       "        [[-1.1076053 ],\n",
       "         [ 1.596041  ],\n",
       "         [-0.930267  ],\n",
       "         ...,\n",
       "         [ 0.00314647],\n",
       "         [ 0.3005419 ],\n",
       "         [ 0.5342239 ]],\n",
       "\n",
       "        [[-0.05260412],\n",
       "         [ 0.02696775],\n",
       "         [ 0.00891133],\n",
       "         ...,\n",
       "         [ 1.0066844 ],\n",
       "         [-0.1158621 ],\n",
       "         [ 0.6668488 ]],\n",
       "\n",
       "        [[-0.33855116],\n",
       "         [ 0.86223024],\n",
       "         [ 0.4541731 ],\n",
       "         ...,\n",
       "         [ 0.03147848],\n",
       "         [-0.30001494],\n",
       "         [ 0.818234  ]]],\n",
       "\n",
       "\n",
       "       [[[ 1.3563867 ],\n",
       "         [-0.36325294],\n",
       "         [ 0.44979274],\n",
       "         ...,\n",
       "         [ 1.9966203 ],\n",
       "         [-0.33392817],\n",
       "         [-0.8557312 ]],\n",
       "\n",
       "        [[-0.49557057],\n",
       "         [ 1.2412465 ],\n",
       "         [-1.0292786 ],\n",
       "         ...,\n",
       "         [-0.5421135 ],\n",
       "         [ 0.4275208 ],\n",
       "         [ 1.5977663 ]],\n",
       "\n",
       "        [[-0.36646304],\n",
       "         [-0.12770854],\n",
       "         [-0.1350665 ],\n",
       "         ...,\n",
       "         [-0.38359034],\n",
       "         [-0.7710425 ],\n",
       "         [-0.48234057]],\n",
       "\n",
       "        ...,\n",
       "\n",
       "        [[-0.6336305 ],\n",
       "         [ 0.3374529 ],\n",
       "         [ 0.6042975 ],\n",
       "         ...,\n",
       "         [ 0.46799564],\n",
       "         [-2.644669  ],\n",
       "         [ 0.02752906]],\n",
       "\n",
       "        [[-0.31579155],\n",
       "         [-0.68050563],\n",
       "         [-0.9296213 ],\n",
       "         ...,\n",
       "         [-1.2071558 ],\n",
       "         [ 0.44205868],\n",
       "         [-0.5192992 ]],\n",
       "\n",
       "        [[-0.8169056 ],\n",
       "         [-0.6492149 ],\n",
       "         [ 0.5903663 ],\n",
       "         ...,\n",
       "         [ 0.74676454],\n",
       "         [-2.63255   ],\n",
       "         [-1.5102743 ]]],\n",
       "\n",
       "\n",
       "       [[[ 0.5546417 ],\n",
       "         [ 0.00754389],\n",
       "         [ 0.66060853],\n",
       "         ...,\n",
       "         [ 1.3569043 ],\n",
       "         [-0.43412462],\n",
       "         [-0.89434063]],\n",
       "\n",
       "        [[ 0.7045791 ],\n",
       "         [-0.10298369],\n",
       "         [-0.07181828],\n",
       "         ...,\n",
       "         [-0.24295878],\n",
       "         [-0.73061913],\n",
       "         [ 1.8008304 ]],\n",
       "\n",
       "        [[ 1.0128242 ],\n",
       "         [ 0.28103858],\n",
       "         [ 0.6301888 ],\n",
       "         ...,\n",
       "         [-0.91560066],\n",
       "         [-1.5003257 ],\n",
       "         [ 0.26937774]],\n",
       "\n",
       "        ...,\n",
       "\n",
       "        [[ 0.9548335 ],\n",
       "         [-0.23912849],\n",
       "         [ 1.0044401 ],\n",
       "         ...,\n",
       "         [ 0.13936678],\n",
       "         [-0.90194696],\n",
       "         [ 0.29690772]],\n",
       "\n",
       "        [[ 0.2038768 ],\n",
       "         [ 1.2798629 ],\n",
       "         [ 1.2016592 ],\n",
       "         ...,\n",
       "         [-2.044346  ],\n",
       "         [ 1.2504383 ],\n",
       "         [ 0.1826449 ]],\n",
       "\n",
       "        [[ 0.5742456 ],\n",
       "         [-0.83235025],\n",
       "         [-0.3701395 ],\n",
       "         ...,\n",
       "         [-1.6838913 ],\n",
       "         [ 0.29884952],\n",
       "         [-0.49669752]]],\n",
       "\n",
       "\n",
       "       ...,\n",
       "\n",
       "\n",
       "       [[[-0.0161968 ],\n",
       "         [ 1.4600366 ],\n",
       "         [-0.12019884],\n",
       "         ...,\n",
       "         [ 0.95314837],\n",
       "         [ 0.9753525 ],\n",
       "         [ 1.7742498 ]],\n",
       "\n",
       "        [[ 0.6302099 ],\n",
       "         [-0.7187921 ],\n",
       "         [-0.69508415],\n",
       "         ...,\n",
       "         [ 0.5124955 ],\n",
       "         [-1.2342044 ],\n",
       "         [-0.05536804]],\n",
       "\n",
       "        [[-0.05045431],\n",
       "         [ 0.7125755 ],\n",
       "         [ 1.0718557 ],\n",
       "         ...,\n",
       "         [-0.92770517],\n",
       "         [ 0.39608857],\n",
       "         [-0.31595486]],\n",
       "\n",
       "        ...,\n",
       "\n",
       "        [[-1.3329258 ],\n",
       "         [-1.1694944 ],\n",
       "         [ 0.51367533],\n",
       "         ...,\n",
       "         [ 0.2535317 ],\n",
       "         [-0.20602013],\n",
       "         [-1.2615727 ]],\n",
       "\n",
       "        [[-0.33429977],\n",
       "         [-0.2760022 ],\n",
       "         [-0.86194235],\n",
       "         ...,\n",
       "         [-0.70772624],\n",
       "         [-1.68258   ],\n",
       "         [-0.54992884]],\n",
       "\n",
       "        [[ 0.03928611],\n",
       "         [ 0.95206475],\n",
       "         [-1.2509695 ],\n",
       "         ...,\n",
       "         [ 0.10442554],\n",
       "         [-1.0482384 ],\n",
       "         [ 1.4902003 ]]],\n",
       "\n",
       "\n",
       "       [[[-0.0416471 ],\n",
       "         [-0.7806875 ],\n",
       "         [-0.61981314],\n",
       "         ...,\n",
       "         [ 0.39792746],\n",
       "         [-1.1618017 ],\n",
       "         [-1.1502801 ]],\n",
       "\n",
       "        [[ 0.40068272],\n",
       "         [-0.66684633],\n",
       "         [-1.3366457 ],\n",
       "         ...,\n",
       "         [-1.2289721 ],\n",
       "         [-0.8885242 ],\n",
       "         [ 0.40504658]],\n",
       "\n",
       "        [[-0.24081668],\n",
       "         [-0.6566294 ],\n",
       "         [-0.5307304 ],\n",
       "         ...,\n",
       "         [ 0.0269089 ],\n",
       "         [-0.60249466],\n",
       "         [ 0.33968064]],\n",
       "\n",
       "        ...,\n",
       "\n",
       "        [[-0.2483006 ],\n",
       "         [-0.5342282 ],\n",
       "         [-1.8112845 ],\n",
       "         ...,\n",
       "         [ 0.9329965 ],\n",
       "         [ 1.655073  ],\n",
       "         [ 0.14302222]],\n",
       "\n",
       "        [[-1.559877  ],\n",
       "         [ 1.961008  ],\n",
       "         [-0.49007452],\n",
       "         ...,\n",
       "         [ 0.25398305],\n",
       "         [ 0.7205465 ],\n",
       "         [ 0.2504976 ]],\n",
       "\n",
       "        [[ 0.17757909],\n",
       "         [-0.00551726],\n",
       "         [-0.6377478 ],\n",
       "         ...,\n",
       "         [-0.47797364],\n",
       "         [ 0.8526119 ],\n",
       "         [ 0.9721964 ]]],\n",
       "\n",
       "\n",
       "       [[[ 0.9242166 ],\n",
       "         [-0.12579012],\n",
       "         [ 0.1837501 ],\n",
       "         ...,\n",
       "         [-1.3103372 ],\n",
       "         [-1.2490819 ],\n",
       "         [ 0.3207924 ]],\n",
       "\n",
       "        [[ 0.5016039 ],\n",
       "         [-0.6369266 ],\n",
       "         [-2.2864087 ],\n",
       "         ...,\n",
       "         [-1.9748191 ],\n",
       "         [-0.96855414],\n",
       "         [ 1.3512619 ]],\n",
       "\n",
       "        [[-1.7540377 ],\n",
       "         [-0.4226637 ],\n",
       "         [-0.8494177 ],\n",
       "         ...,\n",
       "         [ 0.6031868 ],\n",
       "         [-0.5082768 ],\n",
       "         [-1.0312918 ]],\n",
       "\n",
       "        ...,\n",
       "\n",
       "        [[ 0.10113344],\n",
       "         [-0.7872726 ],\n",
       "         [-0.6039515 ],\n",
       "         ...,\n",
       "         [-0.05293588],\n",
       "         [ 1.0583539 ],\n",
       "         [ 0.44280723]],\n",
       "\n",
       "        [[-0.5367914 ],\n",
       "         [ 0.29774612],\n",
       "         [ 1.0872746 ],\n",
       "         ...,\n",
       "         [ 0.79408455],\n",
       "         [ 0.500159  ],\n",
       "         [-0.0592618 ]],\n",
       "\n",
       "        [[ 1.355812  ],\n",
       "         [-1.5155101 ],\n",
       "         [ 0.47130924],\n",
       "         ...,\n",
       "         [ 0.21700947],\n",
       "         [ 0.43341058],\n",
       "         [ 0.6361664 ]]]], dtype=float32)>"
      ]
     },
     "execution_count": 5,
     "metadata": {},
     "output_type": "execute_result"
    }
   ],
   "source": [
    "tf.random.normal(shape=x_train.shape)"
   ]
  },
  {
   "cell_type": "code",
   "execution_count": 6,
   "id": "c72771a1",
   "metadata": {},
   "outputs": [],
   "source": [
    "noise_factor = 0.2\n",
    "x_train_noisy = x_train  +  noise_factor * tf.random.normal(shape=x_train.shape) \n",
    "# noise factor multiplication result in increased spread in noise distribution\n",
    "# result in 0.2^2 increase of variance, mean doesn't chnage (mean = 0) \n",
    "x_test_noisy = x_test  +  noise_factor * tf.random.normal(shape=x_test.shape) \n",
    "\n",
    "x_train_noisy = tf.clip_by_value(x_train_noisy, clip_value_min=0., clip_value_max=1.)\n",
    "x_test_noisy = tf.clip_by_value(x_test_noisy, clip_value_min=0., clip_value_max=1.)"
   ]
  },
  {
   "cell_type": "code",
   "execution_count": 7,
   "id": "ec07ada1",
   "metadata": {},
   "outputs": [
    {
     "data": {
      "text/plain": [
       "TensorShape([10000, 28, 28, 1])"
      ]
     },
     "execution_count": 7,
     "metadata": {},
     "output_type": "execute_result"
    }
   ],
   "source": [
    "x_test_noisy.shape"
   ]
  },
  {
   "cell_type": "code",
   "execution_count": 8,
   "id": "161649e1",
   "metadata": {},
   "outputs": [
    {
     "data": {
      "image/png": "[encoded data removed]",
      "text/plain": [
       "<Figure size 1440x144 with 10 Axes>"
      ]
     },
     "metadata": {
      "needs_background": "light"
     },
     "output_type": "display_data"
    }
   ],
   "source": [
    "n = 10\n",
    "plt.figure(figsize=(20, 2))\n",
    "for i in range(n):\n",
    "    ax = plt.subplot(1, n, i + 1)\n",
    "    plt.title(\"original + noise\")\n",
    "    plt.imshow(tf.squeeze(x_test_noisy[i]))\n",
    "    plt.gray()\n",
    "plt.show()"
   ]
  },
  {
   "cell_type": "code",
   "execution_count": 9,
   "id": "6c314ba6",
   "metadata": {},
   "outputs": [],
   "source": [
    "class Denoise(Model):\n",
    "    def __init__(self):\n",
    "        super(Denoise, self).__init__()\n",
    "        self.encoder = tf.keras.Sequential([\n",
    "          layers.Input(shape=(28, 28, 1)),\n",
    "          layers.Conv2D(16, (3, 3), activation='relu', padding='same', strides=2),\n",
    "          layers.Conv2D(8, (3, 3), activation='relu', padding='same', strides=2)])\n",
    "\n",
    "        self.decoder = tf.keras.Sequential([\n",
    "          layers.Conv2DTranspose(8, kernel_size=3, strides=2, activation='relu', padding='same'),\n",
    "          layers.Conv2DTranspose(16, kernel_size=3, strides=2, activation='relu', padding='same'),\n",
    "          layers.Conv2D(1, kernel_size=(3, 3), activation='sigmoid', padding='same')])\n",
    "\n",
    "    def call(self, x):\n",
    "        encoded = self.encoder(x)\n",
    "        decoded = self.decoder(encoded)\n",
    "        return decoded\n"
   ]
  },
  {
   "cell_type": "code",
   "execution_count": 10,
   "id": "96d17937",
   "metadata": {},
   "outputs": [],
   "source": [
    "autoencoder = Denoise()"
   ]
  },
  {
   "cell_type": "code",
   "execution_count": 11,
   "id": "91cb12a5",
   "metadata": {},
   "outputs": [],
   "source": [
    "autoencoder.compile(optimizer='adam', loss=losses.MeanSquaredError())"
   ]
  },
  {
   "cell_type": "code",
   "execution_count": 12,
   "id": "6dd35cd4",
   "metadata": {},
   "outputs": [
    {
     "name": "stdout",
     "output_type": "stream",
     "text": [
      "Epoch 1/10\n",
      "1875/1875 [==============================] - 41s 22ms/step - loss: 0.0164 - val_loss: 0.0092\n",
      "Epoch 2/10\n",
      "1875/1875 [==============================] - 41s 22ms/step - loss: 0.0085 - val_loss: 0.0081\n",
      "Epoch 3/10\n",
      "1875/1875 [==============================] - 40s 21ms/step - loss: 0.0078 - val_loss: 0.0076\n",
      "Epoch 4/10\n",
      "1875/1875 [==============================] - 40s 21ms/step - loss: 0.0074 - val_loss: 0.0073\n",
      "Epoch 5/10\n",
      "1875/1875 [==============================] - 40s 21ms/step - loss: 0.0072 - val_loss: 0.0071\n",
      "Epoch 6/10\n",
      "1875/1875 [==============================] - 40s 21ms/step - loss: 0.0070 - val_loss: 0.0071\n",
      "Epoch 7/10\n",
      "1875/1875 [==============================] - 40s 22ms/step - loss: 0.0069 - val_loss: 0.0069\n",
      "Epoch 8/10\n",
      "1875/1875 [==============================] - 41s 22ms/step - loss: 0.0068 - val_loss: 0.0068\n",
      "Epoch 9/10\n",
      "1875/1875 [==============================] - 41s 22ms/step - loss: 0.0068 - val_loss: 0.0068\n",
      "Epoch 10/10\n",
      "1875/1875 [==============================] - 40s 22ms/step - loss: 0.0067 - val_loss: 0.0067\n"
     ]
    },
    {
     "data": {
      "text/plain": [
       "<tensorflow.python.keras.callbacks.History at 0x1e50be91af0>"
      ]
     },
     "execution_count": 12,
     "metadata": {},
     "output_type": "execute_result"
    }
   ],
   "source": [
    "autoencoder.fit(x_train_noisy, x_train,\n",
    "                epochs=10,\n",
    "                shuffle=True,\n",
    "                validation_data=(x_test_noisy, x_test))"
   ]
  },
  {
   "cell_type": "code",
   "execution_count": 13,
   "id": "3f821613",
   "metadata": {},
   "outputs": [
    {
     "name": "stdout",
     "output_type": "stream",
     "text": [
      "Model: \"sequential\"\n",
      "_________________________________________________________________\n",
      "Layer (type)                 Output Shape              Param #   \n",
      "=================================================================\n",
      "conv2d (Conv2D)              (None, 14, 14, 16)        160       \n",
      "_________________________________________________________________\n",
      "conv2d_1 (Conv2D)            (None, 7, 7, 8)           1160      \n",
      "=================================================================\n",
      "Total params: 1,320\n",
      "Trainable params: 1,320\n",
      "Non-trainable params: 0\n",
      "_________________________________________________________________\n"
     ]
    }
   ],
   "source": [
    "autoencoder.encoder.summary()\n"
   ]
  },
  {
   "cell_type": "code",
   "execution_count": 14,
   "id": "499a50d1",
   "metadata": {},
   "outputs": [
    {
     "name": "stdout",
     "output_type": "stream",
     "text": [
      "Model: \"sequential_1\"\n",
      "_________________________________________________________________\n",
      "Layer (type)                 Output Shape              Param #   \n",
      "=================================================================\n",
      "conv2d_transpose (Conv2DTran (None, 14, 14, 8)         584       \n",
      "_________________________________________________________________\n",
      "conv2d_transpose_1 (Conv2DTr (None, 28, 28, 16)        1168      \n",
      "_________________________________________________________________\n",
      "conv2d_2 (Conv2D)            (None, 28, 28, 1)         145       \n",
      "=================================================================\n",
      "Total params: 1,897\n",
      "Trainable params: 1,897\n",
      "Non-trainable params: 0\n",
      "_________________________________________________________________\n"
     ]
    }
   ],
   "source": [
    "autoencoder.decoder.summary()\n"
   ]
  },
  {
   "cell_type": "code",
   "execution_count": 15,
   "id": "8ceec97e",
   "metadata": {},
   "outputs": [],
   "source": [
    "encoded_imgs = autoencoder.encoder(x_test_noisy).numpy()\n",
    "decoded_imgs = autoencoder.decoder(encoded_imgs).numpy()"
   ]
  },
  {
   "cell_type": "code",
   "execution_count": 18,
   "id": "510db41a",
   "metadata": {},
   "outputs": [
    {
     "data": {
      "image/png": "[encoded data removed]",
      "text/plain": [
       "<Figure size 1440x432 with 30 Axes>"
      ]
     },
     "metadata": {
      "needs_background": "light"
     },
     "output_type": "display_data"
    }
   ],
   "source": [
    "n = 10\n",
    "plt.figure(figsize=(20, 6))\n",
    "for i in range(n):\n",
    "    # display original \n",
    "    ax = plt.subplot(3, n, i + 1)\n",
    "    plt.title(\"original\")\n",
    "    plt.imshow(tf.squeeze(x_test[i]))\n",
    "    plt.gray()\n",
    "    ax.get_xaxis().set_visible(False)\n",
    "    ax.get_yaxis().set_visible(False)\n",
    "    \n",
    "    # display original + noise\n",
    "    ax = plt.subplot(3, n, i + n + 1)\n",
    "    plt.title(\"original + noise\")\n",
    "    plt.imshow(tf.squeeze(x_test_noisy[i]))\n",
    "    plt.gray()\n",
    "    ax.get_xaxis().set_visible(False)\n",
    "    ax.get_yaxis().set_visible(False)\n",
    "\n",
    "    # display reconstruction\n",
    "    bx = plt.subplot(3, n, i + 2*n + 1)\n",
    "    plt.title(\"reconstructed\")\n",
    "    plt.imshow(tf.squeeze(decoded_imgs[i]))\n",
    "    plt.gray()\n",
    "    bx.get_xaxis().set_visible(False)\n",
    "    bx.get_yaxis().set_visible(False)\n",
    "plt.show()"
   ]
  }
 ],
 "metadata": {
  "kernelspec": {
   "display_name": "Python 3",
   "language": "python",
   "name": "python3"
  },
  "language_info": {
   "codemirror_mode": {
    "name": "ipython",
    "version": 3
   },
   "file_extension": ".py",
   "mimetype": "text/x-python",
   "name": "python",
   "nbconvert_exporter": "python",
   "pygments_lexer": "ipython3",
   "version": "3.8.8"
  }
 },
 "nbformat": 4,
 "nbformat_minor": 5
}
